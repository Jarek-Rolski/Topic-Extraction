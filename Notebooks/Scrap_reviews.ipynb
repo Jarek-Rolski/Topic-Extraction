{
 "cells": [
  {
   "cell_type": "markdown",
   "id": "51b1c5ad-c86b-415f-b110-eeba92c7f4ca",
   "metadata": {},
   "source": [
    "### Load libraries"
   ]
  },
  {
   "cell_type": "code",
   "execution_count": 1,
   "id": "26ddffa7-ac8e-488e-8b30-76e681c1ca6c",
   "metadata": {},
   "outputs": [],
   "source": [
    "import requests\n",
    "import datetime\n",
    "from datetime import datetime\n",
    "\n",
    "import os\n",
    "import pickle"
   ]
  },
  {
   "cell_type": "markdown",
   "id": "f326b423-2ea5-4dcb-ac12-6a6a7c0b39a7",
   "metadata": {},
   "source": [
    "### Scraping functions"
   ]
  },
  {
   "cell_type": "code",
   "execution_count": 2,
   "id": "1bab251b-182e-45cb-a507-9ff83da776a5",
   "metadata": {},
   "outputs": [],
   "source": [
    "# Preprocess singular request into required format\n",
    "def processed_data(req):\n",
    "    req_json = req.json()\n",
    "    \n",
    "    data = []\n",
    "    \n",
    "    for review in req_json['data']['reviews']:\n",
    "        # Date of last modification of comment\n",
    "        date = datetime.strptime(review['Modified'],\"%Y-%m-%d %H:%M:%S\")\n",
    "        # Separated positive comment with ratings\n",
    "        pros = (review['LikesText'], [p['Name'] for p in review['RatingDistribution'] if p['count']>3])\n",
    "        # Separated negative comment with ratings\n",
    "        cons = (review['DisLikesText'], [p['Name'] for p in review['RatingDistribution'] if p['count']<3])\n",
    "        \n",
    "        data.append([pros, cons, date])\n",
    "    return data"
   ]
  },
  {
   "cell_type": "code",
   "execution_count": 3,
   "id": "62165e5b-7945-46e7-b518-012814b235a1",
   "metadata": {},
   "outputs": [],
   "source": [
    "# Scrap all comments between start_date and end_date(excluding end date) using api\n",
    "def get_comments(start_date, end_date):\n",
    "    \n",
    "    # Find starting page in optimal way\n",
    "    i = 1\n",
    "    req = requests.get('https://www.ambitionbox.com/api/v2/reviews/data/114?page=1&sort=recent')\n",
    "    j = req.json()['data']['pagination']['total_pages']\n",
    "    while True:\n",
    "        k = (j-i)//2 + i\n",
    "\n",
    "        req = requests.get('https://www.ambitionbox.com/api/v2/reviews/data/114?page='+str(k)+'&sort=recent')\n",
    "        \n",
    "        if datetime.strptime(req.json()['data']['reviews'][0]['Modified'],\"%Y-%m-%d %H:%M:%S\") > end_date:\n",
    "            i = k\n",
    "        else:\n",
    "            j = k\n",
    "    \n",
    "        if j-i < 2:\n",
    "            break\n",
    "            \n",
    "    # Starting page\n",
    "    page = i\n",
    "    data = []\n",
    "    while True:\n",
    "        req = requests.get('https://www.ambitionbox.com/api/v2/reviews/data/114?page='+str(page)+'&sort=recent')\n",
    "    \n",
    "        # Stop when there is no more pages to scrap\n",
    "        if req.status_code != 200:\n",
    "            return data\n",
    "        \n",
    "        prep = processed_data(req)\n",
    "        for review in prep:\n",
    "            # Stop when we get comments before January 2022\n",
    "            if review[2] < start_date:\n",
    "                return data\n",
    "            # Add comments for January 2022\n",
    "            if review[2] < end_date and review[2] >= start_date:\n",
    "                data.append(review)\n",
    "                \n",
    "        page += 1\n",
    "    return data"
   ]
  },
  {
   "cell_type": "markdown",
   "id": "44e55603-71e3-44ab-b740-863c6983a7c7",
   "metadata": {},
   "source": [
    "### Example"
   ]
  },
  {
   "cell_type": "code",
   "execution_count": 4,
   "id": "88943d83-4efa-4664-bc42-74c034849719",
   "metadata": {},
   "outputs": [],
   "source": [
    "start = datetime.strptime('2022-01-01',\"%Y-%m-%d\") \n",
    "end = datetime.strptime('2022-02-01',\"%Y-%m-%d\")"
   ]
  },
  {
   "cell_type": "code",
   "execution_count": 5,
   "id": "657ece37-55c1-4f7b-88e1-3ba696892aea",
   "metadata": {},
   "outputs": [],
   "source": [
    "data = get_comments(start, end)"
   ]
  },
  {
   "cell_type": "code",
   "execution_count": 6,
   "id": "ce891097-9868-4984-90aa-4b6f8dc593f6",
   "metadata": {},
   "outputs": [
    {
     "data": {
      "text/plain": [
       "453"
      ]
     },
     "execution_count": 6,
     "metadata": {},
     "output_type": "execute_result"
    }
   ],
   "source": [
    "len(data)"
   ]
  },
  {
   "cell_type": "code",
   "execution_count": 7,
   "id": "c7b70b48-0394-489a-b191-52acd6096fc3",
   "metadata": {},
   "outputs": [
    {
     "data": {
      "text/plain": [
       "[('Everything work culture, seniors they are very supportive and superb is the word to describe this company.',\n",
       "  ['Work-Life Balance',\n",
       "   'Skill Development',\n",
       "   'Salary & Benefits',\n",
       "   'Job Security',\n",
       "   'Company Culture',\n",
       "   'Career Growth',\n",
       "   'Work Satisfaction']),\n",
       " ('Nothing this company is the best.i loved working here.', []),\n",
       " datetime.datetime(2022, 1, 31, 23, 39, 41)]"
      ]
     },
     "execution_count": 7,
     "metadata": {},
     "output_type": "execute_result"
    }
   ],
   "source": [
    "data[0]"
   ]
  }
 ],
 "metadata": {
  "kernelspec": {
   "display_name": "Python 3 (ipykernel)",
   "language": "python",
   "name": "python3"
  },
  "language_info": {
   "codemirror_mode": {
    "name": "ipython",
    "version": 3
   },
   "file_extension": ".py",
   "mimetype": "text/x-python",
   "name": "python",
   "nbconvert_exporter": "python",
   "pygments_lexer": "ipython3",
   "version": "3.9.7"
  }
 },
 "nbformat": 4,
 "nbformat_minor": 5
}
