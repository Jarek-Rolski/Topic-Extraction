{
 "cells": [
  {
   "cell_type": "markdown",
   "id": "dc14e4bb",
   "metadata": {},
   "source": [
    "## Import libraries"
   ]
  },
  {
   "cell_type": "code",
   "execution_count": 1,
   "id": "2f9db749",
   "metadata": {},
   "outputs": [],
   "source": [
    "import datetime\n",
    "from datetime import datetime\n",
    "\n",
    "import numpy as np\n",
    "import pandas as pd\n",
    "\n",
    "import gensim\n",
    "from gensim.models import LsiModel\n",
    "from gensim.models.coherencemodel import CoherenceModel\n",
    "\n",
    "import spacy \n",
    "from spacy import displacy\n",
    "\n",
    "import matplotlib.pyplot as plt\n",
    "\n",
    "import pickle\n",
    "import os\n",
    "import sys\n",
    "sys.path.append(os.path.join(os.environ['PWD'],'scripts'))\n",
    "\n",
    "from scrap import get_comments\n",
    "from preprocess_text import preprocess_raw_comments"
   ]
  },
  {
   "cell_type": "markdown",
   "id": "f779d628",
   "metadata": {},
   "source": [
    "## Collect comments for January 2022"
   ]
  },
  {
   "cell_type": "code",
   "execution_count": 2,
   "id": "593bd223-1715-42df-a80b-34b9e2ac73e5",
   "metadata": {},
   "outputs": [
    {
     "name": "stdout",
     "output_type": "stream",
     "text": [
      "data unpickled successfully!\n"
     ]
    }
   ],
   "source": [
    "data_path = os.path.join(os.environ['PWD'],'data/january_comments.pkl')\n",
    "\n",
    "if not os.path.isfile(data_path):\n",
    "    start_date = datetime.strptime('2022-01-01',\"%Y-%m-%d\")\n",
    "    end_date = datetime.strptime('2022-02-01',\"%Y-%m-%d\")\n",
    "    \n",
    "    raw_comments = get_comments(start_date, end_date) \n",
    "    \n",
    "    pickling_on = open(data_path,\"wb\")\n",
    "    pickle.dump(raw_comments, pickling_on)\n",
    "    pickling_on.close()\n",
    "    print('data pickled successfully!')\n",
    "else:\n",
    "    pickle_off = open(data_path, 'rb')\n",
    "    raw_comments = pickle.load(pickle_off)\n",
    "    print('data unpickled successfully!')"
   ]
  },
  {
   "cell_type": "code",
   "execution_count": 3,
   "id": "5f82c99c",
   "metadata": {},
   "outputs": [
    {
     "data": {
      "text/plain": [
       "453"
      ]
     },
     "execution_count": 3,
     "metadata": {},
     "output_type": "execute_result"
    }
   ],
   "source": [
    "len(raw_comments)"
   ]
  },
  {
   "cell_type": "markdown",
   "id": "18360c3b",
   "metadata": {},
   "source": [
    "## Preprocess textual data for analysis"
   ]
  },
  {
   "cell_type": "code",
   "execution_count": 4,
   "id": "2134a3da-364c-43f9-9c3a-fe8bf78899b7",
   "metadata": {},
   "outputs": [
    {
     "name": "stdout",
     "output_type": "stream",
     "text": [
      "data unpickled successfully!\n"
     ]
    }
   ],
   "source": [
    "data_path = os.path.join(os.environ['PWD'],'data/january_comments_processed.pkl')\n",
    "\n",
    "if not os.path.isfile(data_path):\n",
    "\n",
    "    preprocessed_text = preprocess_raw_comments(raw_comments) \n",
    "    \n",
    "    pickling_on = open(data_path,\"wb\")\n",
    "    pickle.dump(preprocessed_text, pickling_on)\n",
    "    pickling_on.close()\n",
    "    print('data pickled successfully!')\n",
    "else:\n",
    "    pickle_off = open(data_path, 'rb')\n",
    "    preprocessed_text = pickle.load(pickle_off)\n",
    "    print('data unpickled successfully!')"
   ]
  },
  {
   "cell_type": "markdown",
   "id": "48fc6b2c",
   "metadata": {},
   "source": [
    "## Analyse rating scores"
   ]
  },
  {
   "cell_type": "code",
   "execution_count": 5,
   "id": "6e18e459",
   "metadata": {},
   "outputs": [
    {
     "data": {
      "text/html": [
       "<div>\n",
       "<style scoped>\n",
       "    .dataframe tbody tr th:only-of-type {\n",
       "        vertical-align: middle;\n",
       "    }\n",
       "\n",
       "    .dataframe tbody tr th {\n",
       "        vertical-align: top;\n",
       "    }\n",
       "\n",
       "    .dataframe thead th {\n",
       "        text-align: right;\n",
       "    }\n",
       "</style>\n",
       "<table border=\"1\" class=\"dataframe\">\n",
       "  <thead>\n",
       "    <tr style=\"text-align: right;\">\n",
       "      <th></th>\n",
       "      <th>pos</th>\n",
       "      <th>neg</th>\n",
       "    </tr>\n",
       "  </thead>\n",
       "  <tbody>\n",
       "    <tr>\n",
       "      <th>Career Growth</th>\n",
       "      <td>288</td>\n",
       "      <td>83</td>\n",
       "    </tr>\n",
       "    <tr>\n",
       "      <th>Work Satisfaction</th>\n",
       "      <td>297</td>\n",
       "      <td>80</td>\n",
       "    </tr>\n",
       "    <tr>\n",
       "      <th>Job Security</th>\n",
       "      <td>324</td>\n",
       "      <td>63</td>\n",
       "    </tr>\n",
       "    <tr>\n",
       "      <th>Skill Development</th>\n",
       "      <td>325</td>\n",
       "      <td>66</td>\n",
       "    </tr>\n",
       "    <tr>\n",
       "      <th>Work-Life Balance</th>\n",
       "      <td>326</td>\n",
       "      <td>62</td>\n",
       "    </tr>\n",
       "    <tr>\n",
       "      <th>Salary &amp; Benefits</th>\n",
       "      <td>351</td>\n",
       "      <td>50</td>\n",
       "    </tr>\n",
       "    <tr>\n",
       "      <th>Company Culture</th>\n",
       "      <td>382</td>\n",
       "      <td>35</td>\n",
       "    </tr>\n",
       "  </tbody>\n",
       "</table>\n",
       "</div>"
      ],
      "text/plain": [
       "                   pos  neg\n",
       "Career Growth      288   83\n",
       "Work Satisfaction  297   80\n",
       "Job Security       324   63\n",
       "Skill Development  325   66\n",
       "Work-Life Balance  326   62\n",
       "Salary & Benefits  351   50\n",
       "Company Culture    382   35"
      ]
     },
     "execution_count": 5,
     "metadata": {},
     "output_type": "execute_result"
    }
   ],
   "source": [
    "preprocessed_text['ratings']"
   ]
  },
  {
   "cell_type": "markdown",
   "id": "b1eb0456",
   "metadata": {},
   "source": [
    "- Positive and Negative categories are highly negatively correlated\n",
    "- Overall employees are mostly satisfied with company culture, salary and benefits\n",
    "- Overall employees are mostly dissatisfied with career growth and work satisfaction"
   ]
  },
  {
   "cell_type": "markdown",
   "id": "ffec9331",
   "metadata": {},
   "source": [
    "## Analyse comments"
   ]
  },
  {
   "cell_type": "markdown",
   "id": "afe66b03",
   "metadata": {},
   "source": [
    "### Positive comments"
   ]
  },
  {
   "cell_type": "code",
   "execution_count": 6,
   "id": "fa505aa3-7b77-4531-b3f2-f6c1cf201722",
   "metadata": {},
   "outputs": [
    {
     "name": "stdout",
     "output_type": "stream",
     "text": [
      "data unpickled successfully!\n"
     ]
    }
   ],
   "source": [
    "data_path = os.path.join(os.environ['PWD'],'data/pos_comments_Lsi.pkl')\n",
    "\n",
    "if not os.path.isfile(data_path):\n",
    "    coh_values = []\n",
    "    coh_models = []\n",
    "    lsi_models = []\n",
    "    for i in range(1,30):\n",
    "    \n",
    "        lsi_model = LsiModel(corpus=preprocessed_text['pos_corpus'], num_topics=i, \n",
    "                                             id2word=preprocessed_text['pos_dictionary'],chunksize=10)\n",
    "    \n",
    "        coh_model = CoherenceModel(model=lsi_model, texts=preprocessed_text['pos_texts'], \n",
    "                            dictionary=preprocessed_text['pos_dictionary'],coherence='c_v')\n",
    "\n",
    "        coherence = coh_model.get_coherence()  # get coherence value\n",
    "    \n",
    "        coh_values.append(coherence)\n",
    "        coh_models.append(coh_model)\n",
    "        lsi_models.append(lsi_model) \n",
    "        \n",
    "    pos_topic_models = {}\n",
    "    pos_topic_models['coh_values'] = coh_values\n",
    "    pos_topic_models['coh_models'] = coh_models\n",
    "    pos_topic_models['lsi_models'] = lsi_models\n",
    "    \n",
    "    pickling_on = open(data_path,\"wb\")\n",
    "    pickle.dump(pos_topic_models, pickling_on)\n",
    "    pickling_on.close()\n",
    "    print('data pickled successfully!')\n",
    "else:\n",
    "    pickle_off = open(data_path, 'rb')\n",
    "    pos_topic_models = pickle.load(pickle_off)\n",
    "    print('data unpickled successfully!')"
   ]
  },
  {
   "cell_type": "code",
   "execution_count": 7,
   "id": "25359363-e720-489c-a600-05527e73ed1b",
   "metadata": {},
   "outputs": [
    {
     "data": {
      "text/plain": [
       "Text(0.5, 1.0, 'Coherence')"
      ]
     },
     "execution_count": 7,
     "metadata": {},
     "output_type": "execute_result"
    },
    {
     "data": {
      "image/png": "[encoded data removed]",
      "text/plain": [
       "<Figure size 432x288 with 1 Axes>"
      ]
     },
     "metadata": {
      "needs_background": "light"
     },
     "output_type": "display_data"
    }
   ],
   "source": [
    "plt.plot(range(1,30), pos_topic_models['coh_values'])\n",
    "plt.title(\"Coherence\")"
   ]
  },
  {
   "cell_type": "code",
   "execution_count": 8,
   "id": "1b95b8a1-7ca8-4a59-9689-0afb1ce8568c",
   "metadata": {},
   "outputs": [],
   "source": [
    "n_topics = 3\n",
    "lsi_model = pos_topic_models['lsi_models'][n_topics-1]\n",
    "dictionary = preprocessed_text['pos_dictionary']"
   ]
  },
  {
   "cell_type": "code",
   "execution_count": 9,
   "id": "8e4877b4-811d-47b7-8761-0558efd6db94",
   "metadata": {},
   "outputs": [],
   "source": [
    "data_frame = pd.DataFrame()\n",
    "for i in range(n_topics):\n",
    "    data_frame['Topic'+str(i)] = pd.Series(index=dictionary.values(),data=lsi_model.get_topics()[i]).sort_values(ascending=False).index.values"
   ]
  },
  {
   "cell_type": "code",
   "execution_count": 10,
   "id": "b0e66c8c-db17-4a5e-8a06-477e1aabd757",
   "metadata": {},
   "outputs": [
    {
     "data": {
      "text/html": [
       "<div>\n",
       "<style scoped>\n",
       "    .dataframe tbody tr th:only-of-type {\n",
       "        vertical-align: middle;\n",
       "    }\n",
       "\n",
       "    .dataframe tbody tr th {\n",
       "        vertical-align: top;\n",
       "    }\n",
       "\n",
       "    .dataframe thead th {\n",
       "        text-align: right;\n",
       "    }\n",
       "</style>\n",
       "<table border=\"1\" class=\"dataframe\">\n",
       "  <thead>\n",
       "    <tr style=\"text-align: right;\">\n",
       "      <th></th>\n",
       "      <th>Topic0</th>\n",
       "      <th>Topic1</th>\n",
       "      <th>Topic2</th>\n",
       "    </tr>\n",
       "  </thead>\n",
       "  <tbody>\n",
       "    <tr>\n",
       "      <th>0</th>\n",
       "      <td>resolve</td>\n",
       "      <td>shift</td>\n",
       "      <td>role</td>\n",
       "    </tr>\n",
       "    <tr>\n",
       "      <th>1</th>\n",
       "      <td>cx</td>\n",
       "      <td>time</td>\n",
       "      <td>process</td>\n",
       "    </tr>\n",
       "    <tr>\n",
       "      <th>2</th>\n",
       "      <td>email</td>\n",
       "      <td>holiday</td>\n",
       "      <td>literally</td>\n",
       "    </tr>\n",
       "    <tr>\n",
       "      <th>3</th>\n",
       "      <td>culture</td>\n",
       "      <td>company</td>\n",
       "      <td>shrinkage</td>\n",
       "    </tr>\n",
       "    <tr>\n",
       "      <th>4</th>\n",
       "      <td>great</td>\n",
       "      <td>home</td>\n",
       "      <td>growth</td>\n",
       "    </tr>\n",
       "    <tr>\n",
       "      <th>5</th>\n",
       "      <td>metric</td>\n",
       "      <td>nice_place</td>\n",
       "      <td>like</td>\n",
       "    </tr>\n",
       "    <tr>\n",
       "      <th>6</th>\n",
       "      <td>internal</td>\n",
       "      <td>peak</td>\n",
       "      <td>apply</td>\n",
       "    </tr>\n",
       "    <tr>\n",
       "      <th>7</th>\n",
       "      <td>organization</td>\n",
       "      <td>gift</td>\n",
       "      <td>process_think</td>\n",
       "    </tr>\n",
       "    <tr>\n",
       "      <th>8</th>\n",
       "      <td>ticket</td>\n",
       "      <td>free_time</td>\n",
       "      <td>think</td>\n",
       "    </tr>\n",
       "    <tr>\n",
       "      <th>9</th>\n",
       "      <td>ops_grpms</td>\n",
       "      <td>festival</td>\n",
       "      <td>pressure</td>\n",
       "    </tr>\n",
       "    <tr>\n",
       "      <th>10</th>\n",
       "      <td>expect</td>\n",
       "      <td>card</td>\n",
       "      <td>true</td>\n",
       "    </tr>\n",
       "    <tr>\n",
       "      <th>11</th>\n",
       "      <td>min</td>\n",
       "      <td>like</td>\n",
       "      <td>family</td>\n",
       "    </tr>\n",
       "    <tr>\n",
       "      <th>12</th>\n",
       "      <td>agent</td>\n",
       "      <td>possible</td>\n",
       "      <td>mental</td>\n",
       "    </tr>\n",
       "    <tr>\n",
       "      <th>13</th>\n",
       "      <td>unhealthy</td>\n",
       "      <td>join</td>\n",
       "      <td>say</td>\n",
       "    </tr>\n",
       "    <tr>\n",
       "      <th>14</th>\n",
       "      <td>goal</td>\n",
       "      <td>high</td>\n",
       "      <td>culture_leave</td>\n",
       "    </tr>\n",
       "    <tr>\n",
       "      <th>15</th>\n",
       "      <td>cx_problem</td>\n",
       "      <td>people</td>\n",
       "      <td>guy</td>\n",
       "    </tr>\n",
       "    <tr>\n",
       "      <th>16</th>\n",
       "      <td>company</td>\n",
       "      <td>covid</td>\n",
       "      <td>target</td>\n",
       "    </tr>\n",
       "    <tr>\n",
       "      <th>17</th>\n",
       "      <td>leave</td>\n",
       "      <td>ok</td>\n",
       "      <td>reason</td>\n",
       "    </tr>\n",
       "    <tr>\n",
       "      <th>18</th>\n",
       "      <td>give</td>\n",
       "      <td>provide</td>\n",
       "      <td>report</td>\n",
       "    </tr>\n",
       "    <tr>\n",
       "      <th>19</th>\n",
       "      <td>year</td>\n",
       "      <td>customer_service</td>\n",
       "      <td>going</td>\n",
       "    </tr>\n",
       "  </tbody>\n",
       "</table>\n",
       "</div>"
      ],
      "text/plain": [
       "          Topic0            Topic1         Topic2\n",
       "0        resolve             shift           role\n",
       "1             cx              time        process\n",
       "2          email           holiday      literally\n",
       "3        culture           company      shrinkage\n",
       "4          great              home         growth\n",
       "5         metric        nice_place           like\n",
       "6       internal              peak          apply\n",
       "7   organization              gift  process_think\n",
       "8         ticket         free_time          think\n",
       "9      ops_grpms          festival       pressure\n",
       "10        expect              card           true\n",
       "11           min              like         family\n",
       "12         agent          possible         mental\n",
       "13     unhealthy              join            say\n",
       "14          goal              high  culture_leave\n",
       "15    cx_problem            people            guy\n",
       "16       company             covid         target\n",
       "17         leave                ok         reason\n",
       "18          give           provide         report\n",
       "19          year  customer_service          going"
      ]
     },
     "execution_count": 10,
     "metadata": {},
     "output_type": "execute_result"
    }
   ],
   "source": [
    "data_frame.iloc[:20]"
   ]
  },
  {
   "cell_type": "markdown",
   "id": "89bf86b4-126c-4ad4-a3c8-b7c75d35de91",
   "metadata": {},
   "source": [
    "From given words it seems to be problematic to extract topics.\n",
    "- Employees from first group of comments discuss culture. \n",
    "- Employees from second group of comments discuss shift and holiday. \n",
    "- Employees from third group of comments discuss pressure and target. "
   ]
  },
  {
   "cell_type": "markdown",
   "id": "f22643c8",
   "metadata": {},
   "source": [
    "### Negative comments"
   ]
  },
  {
   "cell_type": "code",
   "execution_count": 11,
   "id": "d45a9750-bdb3-442e-8ec9-015c828ea48a",
   "metadata": {},
   "outputs": [
    {
     "name": "stdout",
     "output_type": "stream",
     "text": [
      "data unpickled successfully!\n"
     ]
    }
   ],
   "source": [
    "data_path = os.path.join(os.environ['PWD'],'data/neg_comments_Lsi.pkl')\n",
    "\n",
    "if not os.path.isfile(data_path):\n",
    "    coh_values = []\n",
    "    coh_models = []\n",
    "    lsi_models = []\n",
    "    for i in range(1,30):\n",
    "    \n",
    "        lsi_model = LsiModel(corpus=preprocessed_text['neg_corpus'], num_topics=i, \n",
    "                                             id2word=preprocessed_text['neg_dictionary'],chunksize=10)\n",
    "    \n",
    "        coh_model = CoherenceModel(model=lsi_model, texts=preprocessed_text['neg_texts'], \n",
    "                            dictionary=preprocessed_text['neg_dictionary'],coherence='c_v')\n",
    "\n",
    "        coherence = coh_model.get_coherence()  # get coherence value\n",
    "    \n",
    "        coh_values.append(coherence)\n",
    "        coh_models.append(coh_model)\n",
    "        lsi_models.append(lsi_model) \n",
    "        \n",
    "    neg_topic_models = {}\n",
    "    neg_topic_models['coh_values'] = coh_values\n",
    "    neg_topic_models['coh_models'] = coh_models\n",
    "    neg_topic_models['lsi_models'] = lsi_models\n",
    "    \n",
    "    pickling_on = open(data_path,\"wb\")\n",
    "    pickle.dump(neg_topic_models, pickling_on)\n",
    "    pickling_on.close()\n",
    "    print('data pickled successfully!')\n",
    "else:\n",
    "    pickle_off = open(data_path, 'rb')\n",
    "    neg_topic_models = pickle.load(pickle_off)\n",
    "    print('data unpickled successfully!')"
   ]
  },
  {
   "cell_type": "code",
   "execution_count": 12,
   "id": "094689b7-f7e6-40ca-a924-ae341ce7d599",
   "metadata": {},
   "outputs": [
    {
     "data": {
      "text/plain": [
       "Text(0.5, 1.0, 'Coherence')"
      ]
     },
     "execution_count": 12,
     "metadata": {},
     "output_type": "execute_result"
    },
    {
     "data": {
      "image/png": "[encoded data removed]",
      "text/plain": [
       "<Figure size 432x288 with 1 Axes>"
      ]
     },
     "metadata": {
      "needs_background": "light"
     },
     "output_type": "display_data"
    }
   ],
   "source": [
    "plt.plot(range(1,30), neg_topic_models['coh_values'])\n",
    "plt.title(\"Coherence\")"
   ]
  },
  {
   "cell_type": "code",
   "execution_count": 13,
   "id": "b7d27a71-361e-4663-a376-9a0d197692c1",
   "metadata": {},
   "outputs": [
    {
     "data": {
      "text/html": [
       "<div>\n",
       "<style scoped>\n",
       "    .dataframe tbody tr th:only-of-type {\n",
       "        vertical-align: middle;\n",
       "    }\n",
       "\n",
       "    .dataframe tbody tr th {\n",
       "        vertical-align: top;\n",
       "    }\n",
       "\n",
       "    .dataframe thead th {\n",
       "        text-align: right;\n",
       "    }\n",
       "</style>\n",
       "<table border=\"1\" class=\"dataframe\">\n",
       "  <thead>\n",
       "    <tr style=\"text-align: right;\">\n",
       "      <th></th>\n",
       "      <th>Topic0</th>\n",
       "      <th>Topic1</th>\n",
       "      <th>Topic2</th>\n",
       "    </tr>\n",
       "  </thead>\n",
       "  <tbody>\n",
       "    <tr>\n",
       "      <th>0</th>\n",
       "      <td>reason</td>\n",
       "      <td>want</td>\n",
       "      <td>low</td>\n",
       "    </tr>\n",
       "    <tr>\n",
       "      <th>1</th>\n",
       "      <td>finally</td>\n",
       "      <td>change</td>\n",
       "      <td>let</td>\n",
       "    </tr>\n",
       "    <tr>\n",
       "      <th>2</th>\n",
       "      <td>follow</td>\n",
       "      <td>listen</td>\n",
       "      <td>day</td>\n",
       "    </tr>\n",
       "    <tr>\n",
       "      <th>3</th>\n",
       "      <td>company</td>\n",
       "      <td>customer</td>\n",
       "      <td>promotion</td>\n",
       "    </tr>\n",
       "    <tr>\n",
       "      <th>4</th>\n",
       "      <td>true</td>\n",
       "      <td>way</td>\n",
       "      <td>salary</td>\n",
       "    </tr>\n",
       "    <tr>\n",
       "      <th>5</th>\n",
       "      <td>team</td>\n",
       "      <td>make</td>\n",
       "      <td>year</td>\n",
       "    </tr>\n",
       "    <tr>\n",
       "      <th>6</th>\n",
       "      <td>happen</td>\n",
       "      <td>pay</td>\n",
       "      <td>politic</td>\n",
       "    </tr>\n",
       "    <tr>\n",
       "      <th>7</th>\n",
       "      <td>love</td>\n",
       "      <td>employee</td>\n",
       "      <td>manager</td>\n",
       "    </tr>\n",
       "    <tr>\n",
       "      <th>8</th>\n",
       "      <td>tell</td>\n",
       "      <td>manager</td>\n",
       "      <td>u</td>\n",
       "    </tr>\n",
       "    <tr>\n",
       "      <th>9</th>\n",
       "      <td>process</td>\n",
       "      <td>issue</td>\n",
       "      <td>hike</td>\n",
       "    </tr>\n",
       "    <tr>\n",
       "      <th>10</th>\n",
       "      <td>month</td>\n",
       "      <td>compensation</td>\n",
       "      <td>pay</td>\n",
       "    </tr>\n",
       "    <tr>\n",
       "      <th>11</th>\n",
       "      <td>get</td>\n",
       "      <td>pressure</td>\n",
       "      <td>grow</td>\n",
       "    </tr>\n",
       "    <tr>\n",
       "      <th>12</th>\n",
       "      <td>bad</td>\n",
       "      <td>think</td>\n",
       "      <td>need</td>\n",
       "    </tr>\n",
       "    <tr>\n",
       "      <th>13</th>\n",
       "      <td>like</td>\n",
       "      <td>growth</td>\n",
       "      <td>apply</td>\n",
       "    </tr>\n",
       "    <tr>\n",
       "      <th>14</th>\n",
       "      <td>huge</td>\n",
       "      <td>take</td>\n",
       "      <td>difference</td>\n",
       "    </tr>\n",
       "    <tr>\n",
       "      <th>15</th>\n",
       "      <td>hope</td>\n",
       "      <td>join</td>\n",
       "      <td>base</td>\n",
       "    </tr>\n",
       "    <tr>\n",
       "      <th>16</th>\n",
       "      <td>interview</td>\n",
       "      <td>shift</td>\n",
       "      <td>strict</td>\n",
       "    </tr>\n",
       "    <tr>\n",
       "      <th>17</th>\n",
       "      <td>kind</td>\n",
       "      <td>life</td>\n",
       "      <td>will</td>\n",
       "    </tr>\n",
       "    <tr>\n",
       "      <th>18</th>\n",
       "      <td>end</td>\n",
       "      <td>chance</td>\n",
       "      <td>field</td>\n",
       "    </tr>\n",
       "    <tr>\n",
       "      <th>19</th>\n",
       "      <td>hr</td>\n",
       "      <td>achievable</td>\n",
       "      <td>huge</td>\n",
       "    </tr>\n",
       "  </tbody>\n",
       "</table>\n",
       "</div>"
      ],
      "text/plain": [
       "       Topic0        Topic1      Topic2\n",
       "0      reason          want         low\n",
       "1     finally        change         let\n",
       "2      follow        listen         day\n",
       "3     company      customer   promotion\n",
       "4        true           way      salary\n",
       "5        team          make        year\n",
       "6      happen           pay     politic\n",
       "7        love      employee     manager\n",
       "8        tell       manager           u\n",
       "9     process         issue        hike\n",
       "10      month  compensation         pay\n",
       "11        get      pressure        grow\n",
       "12        bad         think        need\n",
       "13       like        growth       apply\n",
       "14       huge          take  difference\n",
       "15       hope          join        base\n",
       "16  interview         shift      strict\n",
       "17       kind          life        will\n",
       "18        end        chance       field\n",
       "19         hr    achievable        huge"
      ]
     },
     "execution_count": 13,
     "metadata": {},
     "output_type": "execute_result"
    }
   ],
   "source": [
    "n_topics = 3\n",
    "lsi_model = neg_topic_models['lsi_models'][n_topics-1]\n",
    "dictionary = preprocessed_text['neg_dictionary']\n",
    "\n",
    "data_frame = pd.DataFrame()\n",
    "for i in range(n_topics):\n",
    "    data_frame['Topic'+str(i)] = pd.Series(index=dictionary.values(),data=lsi_model.get_topics()[i]).sort_values(ascending=False).index.values\n",
    "    \n",
    "data_frame.iloc[:20]"
   ]
  },
  {
   "cell_type": "markdown",
   "id": "cda5491e-6d96-4bb4-9f5f-31c1af6b0936",
   "metadata": {},
   "source": [
    "From given words it seems to be problematic to extract topics.\n",
    "- Employees from first group of comments discuss process and interview. \n",
    "- Employees from second group of comments discuss compensation and pressure. \n",
    "- Employees from third group of comments discuss promotion and salary. "
   ]
  },
  {
   "cell_type": "code",
   "execution_count": null,
   "id": "f863a53f-214b-4fae-baef-6859b834a8a7",
   "metadata": {},
   "outputs": [],
   "source": []
  }
 ],
 "metadata": {
  "kernelspec": {
   "display_name": "Python 3 (ipykernel)",
   "language": "python",
   "name": "python3"
  },
  "language_info": {
   "codemirror_mode": {
    "name": "ipython",
    "version": 3
   },
   "file_extension": ".py",
   "mimetype": "text/x-python",
   "name": "python",
   "nbconvert_exporter": "python",
   "pygments_lexer": "ipython3",
   "version": "3.9.7"
  }
 },
 "nbformat": 4,
 "nbformat_minor": 5
}
